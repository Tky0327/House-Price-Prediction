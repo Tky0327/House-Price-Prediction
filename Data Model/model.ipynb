{
 "cells": [
  {
   "cell_type": "code",
   "execution_count": 1,
   "metadata": {
    "id": "e0K99ZKL9L5c"
   },
   "outputs": [],
   "source": [
    "import pandas as pd\n",
    "import matplotlib.pyplot as plt\n",
    "import plotly.express as px\n",
    "import seaborn as sns\n",
    "import numpy as np"
   ]
  },
  {
   "cell_type": "code",
   "execution_count": 2,
   "metadata": {
    "id": "SNRgzB5J-eiD"
   },
   "outputs": [],
   "source": [
    "df = pd.read_csv('../realtor-data.csv')"
   ]
  },
  {
   "cell_type": "code",
   "execution_count": 3,
   "metadata": {
    "colab": {
     "base_uri": "https://localhost:8080/"
    },
    "id": "jnG2sG5y-kyk",
    "outputId": "be1dab01-b634-4190-8bd3-2b7809df8fe7"
   },
   "outputs": [
    {
     "data": {
      "text/plain": [
       "(1048575, 12)"
      ]
     },
     "execution_count": 3,
     "metadata": {},
     "output_type": "execute_result"
    }
   ],
   "source": [
    "df.shape"
   ]
  },
  {
   "cell_type": "code",
   "execution_count": 4,
   "metadata": {
    "colab": {
     "base_uri": "https://localhost:8080/"
    },
    "id": "3eCQ9mKB-nOM",
    "outputId": "dcefe87c-a919-4a70-a010-0753d06c48ae"
   },
   "outputs": [
    {
     "name": "stdout",
     "output_type": "stream",
     "text": [
      "<class 'pandas.core.frame.DataFrame'>\n",
      "RangeIndex: 1048575 entries, 0 to 1048574\n",
      "Data columns (total 12 columns):\n",
      " #   Column          Non-Null Count    Dtype  \n",
      "---  ------          --------------    -----  \n",
      " 0   brokered_by     1047537 non-null  float64\n",
      " 1   status          1048575 non-null  object \n",
      " 2   price           1047485 non-null  float64\n",
      " 3   bed             738569 non-null   float64\n",
      " 4   bath            723607 non-null   float64\n",
      " 5   acre_lot        870247 non-null   float64\n",
      " 6   street          1041799 non-null  float64\n",
      " 7   city            1047715 non-null  object \n",
      " 8   state           1048568 non-null  object \n",
      " 9   zip_code        1048416 non-null  float64\n",
      " 10  house_size      683689 non-null   float64\n",
      " 11  prev_sold_date  497886 non-null   object \n",
      "dtypes: float64(8), object(4)\n",
      "memory usage: 96.0+ MB\n"
     ]
    }
   ],
   "source": [
    "df.info()"
   ]
  },
  {
   "cell_type": "code",
   "execution_count": 5,
   "metadata": {
    "colab": {
     "base_uri": "https://localhost:8080/",
     "height": 300
    },
    "id": "E8Q81tR3-o8Y",
    "outputId": "92b188b6-c702-4c1f-dde7-2faf7bfcaf49"
   },
   "outputs": [
    {
     "data": {
      "text/html": [
       "<div>\n",
       "<style scoped>\n",
       "    .dataframe tbody tr th:only-of-type {\n",
       "        vertical-align: middle;\n",
       "    }\n",
       "\n",
       "    .dataframe tbody tr th {\n",
       "        vertical-align: top;\n",
       "    }\n",
       "\n",
       "    .dataframe thead th {\n",
       "        text-align: right;\n",
       "    }\n",
       "</style>\n",
       "<table border=\"1\" class=\"dataframe\">\n",
       "  <thead>\n",
       "    <tr style=\"text-align: right;\">\n",
       "      <th></th>\n",
       "      <th>brokered_by</th>\n",
       "      <th>price</th>\n",
       "      <th>bed</th>\n",
       "      <th>bath</th>\n",
       "      <th>acre_lot</th>\n",
       "      <th>street</th>\n",
       "      <th>zip_code</th>\n",
       "      <th>house_size</th>\n",
       "    </tr>\n",
       "  </thead>\n",
       "  <tbody>\n",
       "    <tr>\n",
       "      <th>count</th>\n",
       "      <td>1.047537e+06</td>\n",
       "      <td>1.047485e+06</td>\n",
       "      <td>738569.000000</td>\n",
       "      <td>723607.000000</td>\n",
       "      <td>870247.000000</td>\n",
       "      <td>1.041799e+06</td>\n",
       "      <td>1.048416e+06</td>\n",
       "      <td>6.836890e+05</td>\n",
       "    </tr>\n",
       "    <tr>\n",
       "      <th>mean</th>\n",
       "      <td>5.187727e+04</td>\n",
       "      <td>4.774979e+05</td>\n",
       "      <td>3.309546</td>\n",
       "      <td>2.536147</td>\n",
       "      <td>15.345766</td>\n",
       "      <td>1.055064e+06</td>\n",
       "      <td>3.790441e+04</td>\n",
       "      <td>2.137796e+03</td>\n",
       "    </tr>\n",
       "    <tr>\n",
       "      <th>std</th>\n",
       "      <td>3.039121e+04</td>\n",
       "      <td>2.774217e+06</td>\n",
       "      <td>1.598269</td>\n",
       "      <td>1.675857</td>\n",
       "      <td>747.421182</td>\n",
       "      <td>6.057396e+05</td>\n",
       "      <td>1.965920e+04</td>\n",
       "      <td>1.249966e+04</td>\n",
       "    </tr>\n",
       "    <tr>\n",
       "      <th>min</th>\n",
       "      <td>0.000000e+00</td>\n",
       "      <td>0.000000e+00</td>\n",
       "      <td>1.000000</td>\n",
       "      <td>1.000000</td>\n",
       "      <td>0.000000</td>\n",
       "      <td>3.000000e+00</td>\n",
       "      <td>0.000000e+00</td>\n",
       "      <td>4.000000e+00</td>\n",
       "    </tr>\n",
       "    <tr>\n",
       "      <th>25%</th>\n",
       "      <td>2.371300e+04</td>\n",
       "      <td>1.200000e+05</td>\n",
       "      <td>3.000000</td>\n",
       "      <td>2.000000</td>\n",
       "      <td>0.180000</td>\n",
       "      <td>5.309800e+05</td>\n",
       "      <td>2.500500e+04</td>\n",
       "      <td>1.312000e+03</td>\n",
       "    </tr>\n",
       "    <tr>\n",
       "      <th>50%</th>\n",
       "      <td>5.263300e+04</td>\n",
       "      <td>2.760000e+05</td>\n",
       "      <td>3.000000</td>\n",
       "      <td>2.000000</td>\n",
       "      <td>0.360000</td>\n",
       "      <td>1.064730e+06</td>\n",
       "      <td>3.395000e+04</td>\n",
       "      <td>1.800000e+03</td>\n",
       "    </tr>\n",
       "    <tr>\n",
       "      <th>75%</th>\n",
       "      <td>7.883800e+04</td>\n",
       "      <td>4.820000e+05</td>\n",
       "      <td>4.000000</td>\n",
       "      <td>3.000000</td>\n",
       "      <td>1.300000</td>\n",
       "      <td>1.599512e+06</td>\n",
       "      <td>5.322200e+04</td>\n",
       "      <td>2.500000e+03</td>\n",
       "    </tr>\n",
       "    <tr>\n",
       "      <th>max</th>\n",
       "      <td>1.101420e+05</td>\n",
       "      <td>2.147484e+09</td>\n",
       "      <td>473.000000</td>\n",
       "      <td>752.000000</td>\n",
       "      <td>100000.000000</td>\n",
       "      <td>2.001357e+06</td>\n",
       "      <td>9.999900e+04</td>\n",
       "      <td>9.842382e+06</td>\n",
       "    </tr>\n",
       "  </tbody>\n",
       "</table>\n",
       "</div>"
      ],
      "text/plain": [
       "        brokered_by         price            bed           bath  \\\n",
       "count  1.047537e+06  1.047485e+06  738569.000000  723607.000000   \n",
       "mean   5.187727e+04  4.774979e+05       3.309546       2.536147   \n",
       "std    3.039121e+04  2.774217e+06       1.598269       1.675857   \n",
       "min    0.000000e+00  0.000000e+00       1.000000       1.000000   \n",
       "25%    2.371300e+04  1.200000e+05       3.000000       2.000000   \n",
       "50%    5.263300e+04  2.760000e+05       3.000000       2.000000   \n",
       "75%    7.883800e+04  4.820000e+05       4.000000       3.000000   \n",
       "max    1.101420e+05  2.147484e+09     473.000000     752.000000   \n",
       "\n",
       "            acre_lot        street      zip_code    house_size  \n",
       "count  870247.000000  1.041799e+06  1.048416e+06  6.836890e+05  \n",
       "mean       15.345766  1.055064e+06  3.790441e+04  2.137796e+03  \n",
       "std       747.421182  6.057396e+05  1.965920e+04  1.249966e+04  \n",
       "min         0.000000  3.000000e+00  0.000000e+00  4.000000e+00  \n",
       "25%         0.180000  5.309800e+05  2.500500e+04  1.312000e+03  \n",
       "50%         0.360000  1.064730e+06  3.395000e+04  1.800000e+03  \n",
       "75%         1.300000  1.599512e+06  5.322200e+04  2.500000e+03  \n",
       "max    100000.000000  2.001357e+06  9.999900e+04  9.842382e+06  "
      ]
     },
     "execution_count": 5,
     "metadata": {},
     "output_type": "execute_result"
    }
   ],
   "source": [
    "df.describe()"
   ]
  },
  {
   "cell_type": "code",
   "execution_count": 6,
   "metadata": {
    "colab": {
     "base_uri": "https://localhost:8080/",
     "height": 300
    },
    "id": "ux1cAGLs-_16",
    "outputId": "4d40fea6-c3ef-44eb-9589-00c061be5d7a"
   },
   "outputs": [
    {
     "data": {
      "text/html": [
       "<div>\n",
       "<style scoped>\n",
       "    .dataframe tbody tr th:only-of-type {\n",
       "        vertical-align: middle;\n",
       "    }\n",
       "\n",
       "    .dataframe tbody tr th {\n",
       "        vertical-align: top;\n",
       "    }\n",
       "\n",
       "    .dataframe thead th {\n",
       "        text-align: right;\n",
       "    }\n",
       "</style>\n",
       "<table border=\"1\" class=\"dataframe\">\n",
       "  <thead>\n",
       "    <tr style=\"text-align: right;\">\n",
       "      <th></th>\n",
       "      <th>brokered_by</th>\n",
       "      <th>status</th>\n",
       "      <th>price</th>\n",
       "      <th>bed</th>\n",
       "      <th>bath</th>\n",
       "      <th>acre_lot</th>\n",
       "      <th>street</th>\n",
       "      <th>city</th>\n",
       "      <th>state</th>\n",
       "      <th>zip_code</th>\n",
       "      <th>house_size</th>\n",
       "      <th>prev_sold_date</th>\n",
       "    </tr>\n",
       "  </thead>\n",
       "  <tbody>\n",
       "    <tr>\n",
       "      <th>0</th>\n",
       "      <td>103378.0</td>\n",
       "      <td>for_sale</td>\n",
       "      <td>105000.0</td>\n",
       "      <td>3.0</td>\n",
       "      <td>2.0</td>\n",
       "      <td>0.12</td>\n",
       "      <td>1962661.0</td>\n",
       "      <td>Adjuntas</td>\n",
       "      <td>Puerto Rico</td>\n",
       "      <td>601.0</td>\n",
       "      <td>920.0</td>\n",
       "      <td>NaN</td>\n",
       "    </tr>\n",
       "    <tr>\n",
       "      <th>1</th>\n",
       "      <td>52707.0</td>\n",
       "      <td>for_sale</td>\n",
       "      <td>80000.0</td>\n",
       "      <td>4.0</td>\n",
       "      <td>2.0</td>\n",
       "      <td>0.08</td>\n",
       "      <td>1902874.0</td>\n",
       "      <td>Adjuntas</td>\n",
       "      <td>Puerto Rico</td>\n",
       "      <td>601.0</td>\n",
       "      <td>1527.0</td>\n",
       "      <td>NaN</td>\n",
       "    </tr>\n",
       "    <tr>\n",
       "      <th>2</th>\n",
       "      <td>103379.0</td>\n",
       "      <td>for_sale</td>\n",
       "      <td>67000.0</td>\n",
       "      <td>2.0</td>\n",
       "      <td>1.0</td>\n",
       "      <td>0.15</td>\n",
       "      <td>1404990.0</td>\n",
       "      <td>Juana Diaz</td>\n",
       "      <td>Puerto Rico</td>\n",
       "      <td>795.0</td>\n",
       "      <td>748.0</td>\n",
       "      <td>NaN</td>\n",
       "    </tr>\n",
       "    <tr>\n",
       "      <th>3</th>\n",
       "      <td>31239.0</td>\n",
       "      <td>for_sale</td>\n",
       "      <td>145000.0</td>\n",
       "      <td>4.0</td>\n",
       "      <td>2.0</td>\n",
       "      <td>0.10</td>\n",
       "      <td>1947675.0</td>\n",
       "      <td>Ponce</td>\n",
       "      <td>Puerto Rico</td>\n",
       "      <td>731.0</td>\n",
       "      <td>1800.0</td>\n",
       "      <td>NaN</td>\n",
       "    </tr>\n",
       "    <tr>\n",
       "      <th>4</th>\n",
       "      <td>34632.0</td>\n",
       "      <td>for_sale</td>\n",
       "      <td>65000.0</td>\n",
       "      <td>6.0</td>\n",
       "      <td>2.0</td>\n",
       "      <td>0.05</td>\n",
       "      <td>331151.0</td>\n",
       "      <td>Mayaguez</td>\n",
       "      <td>Puerto Rico</td>\n",
       "      <td>680.0</td>\n",
       "      <td>NaN</td>\n",
       "      <td>NaN</td>\n",
       "    </tr>\n",
       "    <tr>\n",
       "      <th>5</th>\n",
       "      <td>103378.0</td>\n",
       "      <td>for_sale</td>\n",
       "      <td>179000.0</td>\n",
       "      <td>4.0</td>\n",
       "      <td>3.0</td>\n",
       "      <td>0.46</td>\n",
       "      <td>1850806.0</td>\n",
       "      <td>San Sebastian</td>\n",
       "      <td>Puerto Rico</td>\n",
       "      <td>612.0</td>\n",
       "      <td>2520.0</td>\n",
       "      <td>NaN</td>\n",
       "    </tr>\n",
       "    <tr>\n",
       "      <th>6</th>\n",
       "      <td>1205.0</td>\n",
       "      <td>for_sale</td>\n",
       "      <td>50000.0</td>\n",
       "      <td>3.0</td>\n",
       "      <td>1.0</td>\n",
       "      <td>0.20</td>\n",
       "      <td>1298094.0</td>\n",
       "      <td>Ciales</td>\n",
       "      <td>Puerto Rico</td>\n",
       "      <td>639.0</td>\n",
       "      <td>2040.0</td>\n",
       "      <td>NaN</td>\n",
       "    </tr>\n",
       "    <tr>\n",
       "      <th>7</th>\n",
       "      <td>50739.0</td>\n",
       "      <td>for_sale</td>\n",
       "      <td>71600.0</td>\n",
       "      <td>3.0</td>\n",
       "      <td>2.0</td>\n",
       "      <td>0.08</td>\n",
       "      <td>1048466.0</td>\n",
       "      <td>Ponce</td>\n",
       "      <td>Puerto Rico</td>\n",
       "      <td>731.0</td>\n",
       "      <td>1050.0</td>\n",
       "      <td>NaN</td>\n",
       "    </tr>\n",
       "  </tbody>\n",
       "</table>\n",
       "</div>"
      ],
      "text/plain": [
       "   brokered_by    status     price  bed  bath  acre_lot     street  \\\n",
       "0     103378.0  for_sale  105000.0  3.0   2.0      0.12  1962661.0   \n",
       "1      52707.0  for_sale   80000.0  4.0   2.0      0.08  1902874.0   \n",
       "2     103379.0  for_sale   67000.0  2.0   1.0      0.15  1404990.0   \n",
       "3      31239.0  for_sale  145000.0  4.0   2.0      0.10  1947675.0   \n",
       "4      34632.0  for_sale   65000.0  6.0   2.0      0.05   331151.0   \n",
       "5     103378.0  for_sale  179000.0  4.0   3.0      0.46  1850806.0   \n",
       "6       1205.0  for_sale   50000.0  3.0   1.0      0.20  1298094.0   \n",
       "7      50739.0  for_sale   71600.0  3.0   2.0      0.08  1048466.0   \n",
       "\n",
       "            city        state  zip_code  house_size prev_sold_date  \n",
       "0       Adjuntas  Puerto Rico     601.0       920.0            NaN  \n",
       "1       Adjuntas  Puerto Rico     601.0      1527.0            NaN  \n",
       "2     Juana Diaz  Puerto Rico     795.0       748.0            NaN  \n",
       "3          Ponce  Puerto Rico     731.0      1800.0            NaN  \n",
       "4       Mayaguez  Puerto Rico     680.0         NaN            NaN  \n",
       "5  San Sebastian  Puerto Rico     612.0      2520.0            NaN  \n",
       "6         Ciales  Puerto Rico     639.0      2040.0            NaN  \n",
       "7          Ponce  Puerto Rico     731.0      1050.0            NaN  "
      ]
     },
     "execution_count": 6,
     "metadata": {},
     "output_type": "execute_result"
    }
   ],
   "source": [
    "df.head(8)"
   ]
  },
  {
   "cell_type": "code",
   "execution_count": 7,
   "metadata": {
    "colab": {
     "base_uri": "https://localhost:8080/",
     "height": 300
    },
    "id": "lUsjFHLL_mid",
    "outputId": "13f7fdfe-2c51-4fec-dff6-82dc43feb111"
   },
   "outputs": [
    {
     "data": {
      "text/html": [
       "<div>\n",
       "<style scoped>\n",
       "    .dataframe tbody tr th:only-of-type {\n",
       "        vertical-align: middle;\n",
       "    }\n",
       "\n",
       "    .dataframe tbody tr th {\n",
       "        vertical-align: top;\n",
       "    }\n",
       "\n",
       "    .dataframe thead th {\n",
       "        text-align: right;\n",
       "    }\n",
       "</style>\n",
       "<table border=\"1\" class=\"dataframe\">\n",
       "  <thead>\n",
       "    <tr style=\"text-align: right;\">\n",
       "      <th></th>\n",
       "      <th>brokered_by</th>\n",
       "      <th>status</th>\n",
       "      <th>price</th>\n",
       "      <th>bed</th>\n",
       "      <th>bath</th>\n",
       "      <th>acre_lot</th>\n",
       "      <th>street</th>\n",
       "      <th>city</th>\n",
       "      <th>state</th>\n",
       "      <th>zip_code</th>\n",
       "      <th>house_size</th>\n",
       "      <th>prev_sold_date</th>\n",
       "    </tr>\n",
       "  </thead>\n",
       "  <tbody>\n",
       "    <tr>\n",
       "      <th>1048567</th>\n",
       "      <td>53016.0</td>\n",
       "      <td>for_sale</td>\n",
       "      <td>511400.0</td>\n",
       "      <td>NaN</td>\n",
       "      <td>NaN</td>\n",
       "      <td>12.79</td>\n",
       "      <td>313693.0</td>\n",
       "      <td>Harker Heights</td>\n",
       "      <td>Texas</td>\n",
       "      <td>76548.0</td>\n",
       "      <td>NaN</td>\n",
       "      <td>NaN</td>\n",
       "    </tr>\n",
       "    <tr>\n",
       "      <th>1048568</th>\n",
       "      <td>3873.0</td>\n",
       "      <td>for_sale</td>\n",
       "      <td>508620.0</td>\n",
       "      <td>4.0</td>\n",
       "      <td>3.0</td>\n",
       "      <td>0.39</td>\n",
       "      <td>812581.0</td>\n",
       "      <td>Harker Heights</td>\n",
       "      <td>Texas</td>\n",
       "      <td>76548.0</td>\n",
       "      <td>2595.0</td>\n",
       "      <td>NaN</td>\n",
       "    </tr>\n",
       "    <tr>\n",
       "      <th>1048569</th>\n",
       "      <td>3873.0</td>\n",
       "      <td>for_sale</td>\n",
       "      <td>523171.0</td>\n",
       "      <td>4.0</td>\n",
       "      <td>3.0</td>\n",
       "      <td>0.40</td>\n",
       "      <td>828186.0</td>\n",
       "      <td>Harker Heights</td>\n",
       "      <td>Texas</td>\n",
       "      <td>76548.0</td>\n",
       "      <td>2629.0</td>\n",
       "      <td>NaN</td>\n",
       "    </tr>\n",
       "    <tr>\n",
       "      <th>1048570</th>\n",
       "      <td>68915.0</td>\n",
       "      <td>for_sale</td>\n",
       "      <td>467847.0</td>\n",
       "      <td>5.0</td>\n",
       "      <td>4.0</td>\n",
       "      <td>0.19</td>\n",
       "      <td>773587.0</td>\n",
       "      <td>Harker Heights</td>\n",
       "      <td>Texas</td>\n",
       "      <td>76548.0</td>\n",
       "      <td>3499.0</td>\n",
       "      <td>NaN</td>\n",
       "    </tr>\n",
       "    <tr>\n",
       "      <th>1048571</th>\n",
       "      <td>68915.0</td>\n",
       "      <td>for_sale</td>\n",
       "      <td>345249.0</td>\n",
       "      <td>5.0</td>\n",
       "      <td>3.0</td>\n",
       "      <td>0.19</td>\n",
       "      <td>772323.0</td>\n",
       "      <td>Harker Heights</td>\n",
       "      <td>Texas</td>\n",
       "      <td>76548.0</td>\n",
       "      <td>2572.0</td>\n",
       "      <td>NaN</td>\n",
       "    </tr>\n",
       "    <tr>\n",
       "      <th>1048572</th>\n",
       "      <td>61150.0</td>\n",
       "      <td>for_sale</td>\n",
       "      <td>325000.0</td>\n",
       "      <td>NaN</td>\n",
       "      <td>NaN</td>\n",
       "      <td>0.68</td>\n",
       "      <td>1024251.0</td>\n",
       "      <td>Harker Heights</td>\n",
       "      <td>Texas</td>\n",
       "      <td>76548.0</td>\n",
       "      <td>NaN</td>\n",
       "      <td>NaN</td>\n",
       "    </tr>\n",
       "    <tr>\n",
       "      <th>1048573</th>\n",
       "      <td>68915.0</td>\n",
       "      <td>for_sale</td>\n",
       "      <td>456122.0</td>\n",
       "      <td>5.0</td>\n",
       "      <td>4.0</td>\n",
       "      <td>0.19</td>\n",
       "      <td>273557.0</td>\n",
       "      <td>Harker Heights</td>\n",
       "      <td>Texas</td>\n",
       "      <td>76548.0</td>\n",
       "      <td>3499.0</td>\n",
       "      <td>NaN</td>\n",
       "    </tr>\n",
       "    <tr>\n",
       "      <th>1048574</th>\n",
       "      <td>61150.0</td>\n",
       "      <td>for_sale</td>\n",
       "      <td>325000.0</td>\n",
       "      <td>NaN</td>\n",
       "      <td>NaN</td>\n",
       "      <td>0.69</td>\n",
       "      <td>1024490.0</td>\n",
       "      <td>Harker Heights</td>\n",
       "      <td>Texas</td>\n",
       "      <td>76548.0</td>\n",
       "      <td>NaN</td>\n",
       "      <td>NaN</td>\n",
       "    </tr>\n",
       "  </tbody>\n",
       "</table>\n",
       "</div>"
      ],
      "text/plain": [
       "         brokered_by    status     price  bed  bath  acre_lot     street  \\\n",
       "1048567      53016.0  for_sale  511400.0  NaN   NaN     12.79   313693.0   \n",
       "1048568       3873.0  for_sale  508620.0  4.0   3.0      0.39   812581.0   \n",
       "1048569       3873.0  for_sale  523171.0  4.0   3.0      0.40   828186.0   \n",
       "1048570      68915.0  for_sale  467847.0  5.0   4.0      0.19   773587.0   \n",
       "1048571      68915.0  for_sale  345249.0  5.0   3.0      0.19   772323.0   \n",
       "1048572      61150.0  for_sale  325000.0  NaN   NaN      0.68  1024251.0   \n",
       "1048573      68915.0  for_sale  456122.0  5.0   4.0      0.19   273557.0   \n",
       "1048574      61150.0  for_sale  325000.0  NaN   NaN      0.69  1024490.0   \n",
       "\n",
       "                   city  state  zip_code  house_size prev_sold_date  \n",
       "1048567  Harker Heights  Texas   76548.0         NaN            NaN  \n",
       "1048568  Harker Heights  Texas   76548.0      2595.0            NaN  \n",
       "1048569  Harker Heights  Texas   76548.0      2629.0            NaN  \n",
       "1048570  Harker Heights  Texas   76548.0      3499.0            NaN  \n",
       "1048571  Harker Heights  Texas   76548.0      2572.0            NaN  \n",
       "1048572  Harker Heights  Texas   76548.0         NaN            NaN  \n",
       "1048573  Harker Heights  Texas   76548.0      3499.0            NaN  \n",
       "1048574  Harker Heights  Texas   76548.0         NaN            NaN  "
      ]
     },
     "execution_count": 7,
     "metadata": {},
     "output_type": "execute_result"
    }
   ],
   "source": [
    "df.tail(8)"
   ]
  },
  {
   "cell_type": "code",
   "execution_count": 8,
   "metadata": {
    "colab": {
     "base_uri": "https://localhost:8080/"
    },
    "id": "sHxW03gn_o5C",
    "outputId": "f9de8dcb-98cc-4293-ea56-2398939cdd2e"
   },
   "outputs": [
    {
     "data": {
      "text/plain": [
       "np.int64(0)"
      ]
     },
     "execution_count": 8,
     "metadata": {},
     "output_type": "execute_result"
    }
   ],
   "source": [
    "df.duplicated().sum()"
   ]
  },
  {
   "cell_type": "code",
   "execution_count": 9,
   "metadata": {
    "id": "jEZohWD9_qoX"
   },
   "outputs": [],
   "source": [
    "df.drop_duplicates(inplace=True)"
   ]
  },
  {
   "cell_type": "code",
   "execution_count": 10,
   "metadata": {
    "colab": {
     "base_uri": "https://localhost:8080/"
    },
    "id": "9rT2k2TA_slE",
    "outputId": "082757b2-cafd-4168-dea3-889c6d5332be"
   },
   "outputs": [
    {
     "name": "stdout",
     "output_type": "stream",
     "text": [
      "Percentage Missing Value %\n"
     ]
    },
    {
     "data": {
      "text/plain": [
       "brokered_by        0.098991\n",
       "status             0.000000\n",
       "price              0.103951\n",
       "bed               29.564504\n",
       "bath              30.991393\n",
       "acre_lot          17.006700\n",
       "street             0.646210\n",
       "city               0.082016\n",
       "state              0.000668\n",
       "zip_code           0.015163\n",
       "house_size        34.798274\n",
       "prev_sold_date    52.517846\n",
       "dtype: float64"
      ]
     },
     "execution_count": 10,
     "metadata": {},
     "output_type": "execute_result"
    }
   ],
   "source": [
    "total_missing = df.isna().sum()*100/len(df)\n",
    "print('Percentage Missing Value %')\n",
    "total_missing"
   ]
  },
  {
   "cell_type": "code",
   "execution_count": 11,
   "metadata": {
    "id": "Lmz3l6_g_uR0"
   },
   "outputs": [],
   "source": [
    "df = df.dropna(subset=['zip_code','city'])\n",
    "df = df.drop(['prev_sold_date','brokered_by','street'] ,axis=1,errors='ignore')"
   ]
  },
  {
   "cell_type": "code",
   "execution_count": 12,
   "metadata": {
    "id": "65ZskrVw_vtd"
   },
   "outputs": [
    {
     "name": "stderr",
     "output_type": "stream",
     "text": [
      "C:\\Users\\OEM\\AppData\\Local\\Temp\\ipykernel_5184\\1462640070.py:2: FutureWarning: A value is trying to be set on a copy of a DataFrame or Series through chained assignment using an inplace method.\n",
      "The behavior will change in pandas 3.0. This inplace method will never work because the intermediate object on which we are setting values always behaves as a copy.\n",
      "\n",
      "For example, when doing 'df[col].method(value, inplace=True)', try using 'df.method({col: value}, inplace=True)' or df[col] = df[col].method(value) instead, to perform the operation inplace on the original object.\n",
      "\n",
      "\n",
      "  df['bed'].fillna(df['bed'].mode()[0], inplace=True)\n",
      "C:\\Users\\OEM\\AppData\\Local\\Temp\\ipykernel_5184\\1462640070.py:3: FutureWarning: A value is trying to be set on a copy of a DataFrame or Series through chained assignment using an inplace method.\n",
      "The behavior will change in pandas 3.0. This inplace method will never work because the intermediate object on which we are setting values always behaves as a copy.\n",
      "\n",
      "For example, when doing 'df[col].method(value, inplace=True)', try using 'df.method({col: value}, inplace=True)' or df[col] = df[col].method(value) instead, to perform the operation inplace on the original object.\n",
      "\n",
      "\n",
      "  df['acre_lot'].fillna(df['acre_lot'].mode()[0], inplace=True)\n"
     ]
    }
   ],
   "source": [
    "# Mode imputation to handle missing value\n",
    "df['bed'].fillna(df['bed'].mode()[0], inplace=True)\n",
    "df['acre_lot'].fillna(df['acre_lot'].mode()[0], inplace=True)"
   ]
  },
  {
   "cell_type": "code",
   "execution_count": 13,
   "metadata": {
    "id": "kYlORmmy_yIJ"
   },
   "outputs": [],
   "source": [
    "# Drop these to handle missing value\n",
    "df.dropna(subset=['bath', 'house_size', 'price'], inplace=True)\n",
    "df.drop(df[(df['bath'] == 0) | (df['house_size'] == 0) |(df['bath'] == 0)].index, inplace=True)"
   ]
  },
  {
   "cell_type": "code",
   "execution_count": 14,
   "metadata": {
    "colab": {
     "base_uri": "https://localhost:8080/"
    },
    "id": "c1IcexAb_z1v",
    "outputId": "bfa4b15a-26e0-4522-85c6-a2773cdb3dd5"
   },
   "outputs": [
    {
     "name": "stdout",
     "output_type": "stream",
     "text": [
      "<class 'pandas.core.frame.DataFrame'>\n",
      "Index: 658889 entries, 0 to 1048573\n",
      "Data columns (total 9 columns):\n",
      " #   Column      Non-Null Count   Dtype  \n",
      "---  ------      --------------   -----  \n",
      " 0   status      658889 non-null  object \n",
      " 1   price       658889 non-null  float64\n",
      " 2   bed         658889 non-null  float64\n",
      " 3   bath        658889 non-null  float64\n",
      " 4   acre_lot    658889 non-null  float64\n",
      " 5   city        658889 non-null  object \n",
      " 6   state       658889 non-null  object \n",
      " 7   zip_code    658889 non-null  float64\n",
      " 8   house_size  658889 non-null  float64\n",
      "dtypes: float64(6), object(3)\n",
      "memory usage: 50.3+ MB\n"
     ]
    }
   ],
   "source": [
    "df.info()"
   ]
  },
  {
   "cell_type": "code",
   "execution_count": 15,
   "metadata": {
    "colab": {
     "base_uri": "https://localhost:8080/"
    },
    "id": "kNARk9uR_1rX",
    "outputId": "abdf0462-8f09-4e46-a025-7ad513e51e47"
   },
   "outputs": [
    {
     "data": {
      "text/plain": [
       "status        0\n",
       "price         0\n",
       "bed           0\n",
       "bath          0\n",
       "acre_lot      0\n",
       "city          0\n",
       "state         0\n",
       "zip_code      0\n",
       "house_size    0\n",
       "dtype: int64"
      ]
     },
     "execution_count": 15,
     "metadata": {},
     "output_type": "execute_result"
    }
   ],
   "source": [
    "df.isnull().sum()"
   ]
  },
  {
   "cell_type": "code",
   "execution_count": 16,
   "metadata": {
    "colab": {
     "base_uri": "https://localhost:8080/",
     "height": 470
    },
    "id": "h2-TuN4F_5Od",
    "outputId": "696eabe2-8a2d-491a-9f0c-4bb8848c989f"
   },
   "outputs": [
    {
     "data": {
      "image/png": "[encoded data removed]",
      "text/plain": [
       "<Figure size 640x480 with 1 Axes>"
      ]
     },
     "metadata": {},
     "output_type": "display_data"
    },
    {
     "name": "stdout",
     "output_type": "stream",
     "text": [
      "Total Row With Outlier: 658889\n"
     ]
    }
   ],
   "source": [
    "column_num = ['bed','bath','acre_lot','house_size','price']\n",
    "plt.boxplot(df[column_num])\n",
    "plt.xticks([1, 2, 3, 4, 5], column_num)\n",
    "plt.title('Outlier Before Remove')\n",
    "plt.show()\n",
    "print(f'Total Row With Outlier: {df.shape[0]}')"
   ]
  },
  {
   "cell_type": "code",
   "execution_count": 17,
   "metadata": {
    "id": "J1YZsIrX_7R2"
   },
   "outputs": [],
   "source": [
    "Q1 = df[column_num].quantile(0.25)\n",
    "Q3 = df[column_num].quantile(0.75)\n",
    "IQR = Q3 - Q1\n",
    "\n",
    "df = df[~((df[column_num] < (Q1 - 1.5 * IQR)) | (df[column_num] > (Q3 + 1.5 * IQR))).any(axis=1)]"
   ]
  },
  {
   "cell_type": "code",
   "execution_count": 18,
   "metadata": {
    "colab": {
     "base_uri": "https://localhost:8080/",
     "height": 470
    },
    "id": "OGIqgGU6_72i",
    "outputId": "cb101825-669e-4447-f538-28dbfe37125c"
   },
   "outputs": [
    {
     "data": {
      "image/png": "[encoded data removed]",
      "text/plain": [
       "<Figure size 640x480 with 1 Axes>"
      ]
     },
     "metadata": {},
     "output_type": "display_data"
    },
    {
     "name": "stdout",
     "output_type": "stream",
     "text": [
      "Total Row Without Outlier: 469233\n"
     ]
    }
   ],
   "source": [
    "column_num = ['bed','bath','acre_lot','house_size','price']\n",
    "plt.boxplot(df[column_num])\n",
    "plt.xticks([1, 2, 3, 4, 5], column_num)\n",
    "plt.title('Outlier After Remove')\n",
    "plt.show()\n",
    "print(f'Total Row Without Outlier: {df.shape[0]}')"
   ]
  },
  {
   "cell_type": "code",
   "execution_count": 19,
   "metadata": {
    "colab": {
     "base_uri": "https://localhost:8080/",
     "height": 300
    },
    "id": "X-darY84_9w_",
    "outputId": "7892fcf1-60a1-44f6-f757-5948b77f0ae8"
   },
   "outputs": [
    {
     "data": {
      "text/html": [
       "<div>\n",
       "<style scoped>\n",
       "    .dataframe tbody tr th:only-of-type {\n",
       "        vertical-align: middle;\n",
       "    }\n",
       "\n",
       "    .dataframe tbody tr th {\n",
       "        vertical-align: top;\n",
       "    }\n",
       "\n",
       "    .dataframe thead th {\n",
       "        text-align: right;\n",
       "    }\n",
       "</style>\n",
       "<table border=\"1\" class=\"dataframe\">\n",
       "  <thead>\n",
       "    <tr style=\"text-align: right;\">\n",
       "      <th></th>\n",
       "      <th>price</th>\n",
       "      <th>bed</th>\n",
       "      <th>bath</th>\n",
       "      <th>acre_lot</th>\n",
       "      <th>zip_code</th>\n",
       "      <th>house_size</th>\n",
       "    </tr>\n",
       "  </thead>\n",
       "  <tbody>\n",
       "    <tr>\n",
       "      <th>count</th>\n",
       "      <td>4.692330e+05</td>\n",
       "      <td>469233.000000</td>\n",
       "      <td>469233.000000</td>\n",
       "      <td>469233.000000</td>\n",
       "      <td>469233.000000</td>\n",
       "      <td>469233.000000</td>\n",
       "    </tr>\n",
       "    <tr>\n",
       "      <th>mean</th>\n",
       "      <td>3.371289e+05</td>\n",
       "      <td>3.149889</td>\n",
       "      <td>2.294372</td>\n",
       "      <td>0.245000</td>\n",
       "      <td>39209.353694</td>\n",
       "      <td>1794.762941</td>\n",
       "    </tr>\n",
       "    <tr>\n",
       "      <th>std</th>\n",
       "      <td>1.977145e+05</td>\n",
       "      <td>0.807541</td>\n",
       "      <td>0.820956</td>\n",
       "      <td>0.154959</td>\n",
       "      <td>19470.936984</td>\n",
       "      <td>688.881922</td>\n",
       "    </tr>\n",
       "    <tr>\n",
       "      <th>min</th>\n",
       "      <td>0.000000e+00</td>\n",
       "      <td>2.000000</td>\n",
       "      <td>1.000000</td>\n",
       "      <td>0.000000</td>\n",
       "      <td>601.000000</td>\n",
       "      <td>100.000000</td>\n",
       "    </tr>\n",
       "    <tr>\n",
       "      <th>25%</th>\n",
       "      <td>1.899000e+05</td>\n",
       "      <td>3.000000</td>\n",
       "      <td>2.000000</td>\n",
       "      <td>0.150000</td>\n",
       "      <td>27858.000000</td>\n",
       "      <td>1275.000000</td>\n",
       "    </tr>\n",
       "    <tr>\n",
       "      <th>50%</th>\n",
       "      <td>3.000000e+05</td>\n",
       "      <td>3.000000</td>\n",
       "      <td>2.000000</td>\n",
       "      <td>0.230000</td>\n",
       "      <td>34209.000000</td>\n",
       "      <td>1674.000000</td>\n",
       "    </tr>\n",
       "    <tr>\n",
       "      <th>75%</th>\n",
       "      <td>4.399000e+05</td>\n",
       "      <td>4.000000</td>\n",
       "      <td>3.000000</td>\n",
       "      <td>0.270000</td>\n",
       "      <td>55116.000000</td>\n",
       "      <td>2196.000000</td>\n",
       "    </tr>\n",
       "    <tr>\n",
       "      <th>max</th>\n",
       "      <td>1.035500e+06</td>\n",
       "      <td>5.000000</td>\n",
       "      <td>4.000000</td>\n",
       "      <td>0.890000</td>\n",
       "      <td>95000.000000</td>\n",
       "      <td>4257.000000</td>\n",
       "    </tr>\n",
       "  </tbody>\n",
       "</table>\n",
       "</div>"
      ],
      "text/plain": [
       "              price            bed           bath       acre_lot  \\\n",
       "count  4.692330e+05  469233.000000  469233.000000  469233.000000   \n",
       "mean   3.371289e+05       3.149889       2.294372       0.245000   \n",
       "std    1.977145e+05       0.807541       0.820956       0.154959   \n",
       "min    0.000000e+00       2.000000       1.000000       0.000000   \n",
       "25%    1.899000e+05       3.000000       2.000000       0.150000   \n",
       "50%    3.000000e+05       3.000000       2.000000       0.230000   \n",
       "75%    4.399000e+05       4.000000       3.000000       0.270000   \n",
       "max    1.035500e+06       5.000000       4.000000       0.890000   \n",
       "\n",
       "            zip_code     house_size  \n",
       "count  469233.000000  469233.000000  \n",
       "mean    39209.353694    1794.762941  \n",
       "std     19470.936984     688.881922  \n",
       "min       601.000000     100.000000  \n",
       "25%     27858.000000    1275.000000  \n",
       "50%     34209.000000    1674.000000  \n",
       "75%     55116.000000    2196.000000  \n",
       "max     95000.000000    4257.000000  "
      ]
     },
     "execution_count": 19,
     "metadata": {},
     "output_type": "execute_result"
    }
   ],
   "source": [
    "df.describe()"
   ]
  },
  {
   "cell_type": "code",
   "execution_count": 20,
   "metadata": {
    "colab": {
     "base_uri": "https://localhost:8080/"
    },
    "id": "Dh2JoikujAt4",
    "outputId": "22456c0d-73da-41ca-c167-464a7a4668ce"
   },
   "outputs": [
    {
     "name": "stdout",
     "output_type": "stream",
     "text": [
      "<class 'pandas.core.frame.DataFrame'>\n",
      "Index: 469233 entries, 0 to 1048573\n",
      "Data columns (total 9 columns):\n",
      " #   Column      Non-Null Count   Dtype  \n",
      "---  ------      --------------   -----  \n",
      " 0   status      469233 non-null  object \n",
      " 1   price       469233 non-null  float64\n",
      " 2   bed         469233 non-null  float64\n",
      " 3   bath        469233 non-null  float64\n",
      " 4   acre_lot    469233 non-null  float64\n",
      " 5   city        469233 non-null  object \n",
      " 6   state       469233 non-null  object \n",
      " 7   zip_code    469233 non-null  float64\n",
      " 8   house_size  469233 non-null  float64\n",
      "dtypes: float64(6), object(3)\n",
      "memory usage: 35.8+ MB\n"
     ]
    }
   ],
   "source": [
    "df.info()"
   ]
  },
  {
   "cell_type": "markdown",
   "metadata": {
    "id": "oa4mKpv1Dg8N"
   },
   "source": [
    "# Split Dataset"
   ]
  },
  {
   "cell_type": "markdown",
   "metadata": {
    "id": "WBZ60vM3DkmV"
   },
   "source": [
    "Splitting dataset into training data and testing data"
   ]
  },
  {
   "cell_type": "code",
   "execution_count": 21,
   "metadata": {
    "id": "xN2aRjQxDgoM"
   },
   "outputs": [],
   "source": [
    "from sklearn.preprocessing import LabelEncoder\n",
    "from sklearn.model_selection import train_test_split\n",
    "from sklearn.ensemble import RandomForestRegressor\n",
    "from sklearn.metrics import mean_absolute_percentage_error\n",
    "from sklearn.metrics import mean_absolute_error\n",
    "from sklearn.metrics import mean_squared_error, mean_absolute_error, r2_score\n",
    "import math\n",
    "from sklearn.model_selection import GridSearchCV\n",
    "from sklearn.tree import DecisionTreeRegressor\n",
    "from sklearn.linear_model import LinearRegression\n",
    "from sklearn.ensemble import GradientBoostingRegressor\n",
    "from sklearn.model_selection import ShuffleSplit\n",
    "from sklearn.model_selection import cross_val_score\n",
    "from sklearn.linear_model import Ridge"
   ]
  },
  {
   "cell_type": "code",
   "execution_count": 22,
   "metadata": {
    "colab": {
     "base_uri": "https://localhost:8080/"
    },
    "id": "eCAs-JFPDr4x",
    "outputId": "569e4ca8-ef87-4ba1-d05b-eac610415a51"
   },
   "outputs": [
    {
     "name": "stdout",
     "output_type": "stream",
     "text": [
      "Numerical columns:\n",
      "['price', 'bed', 'bath', 'acre_lot', 'zip_code', 'house_size']\n",
      "\n",
      "Categorical columns:\n",
      "['city', 'status', 'state']\n"
     ]
    }
   ],
   "source": [
    "#find out whether the column is numerical or categorical\n",
    "numerical_cols = list(df._get_numeric_data().columns)\n",
    "print('Numerical columns:')\n",
    "print(numerical_cols)\n",
    "print('')\n",
    "categorical_cols = list(set(df.columns) - set(numerical_cols))\n",
    "print('Categorical columns:')\n",
    "print(categorical_cols)"
   ]
  },
  {
   "cell_type": "code",
   "execution_count": 23,
   "metadata": {
    "colab": {
     "base_uri": "https://localhost:8080/"
    },
    "id": "d96J-8BUsvxg",
    "outputId": "70c23b04-68ef-473e-a5dd-3b5575302140"
   },
   "outputs": [
    {
     "data": {
      "text/plain": [
       "array(['Puerto Rico', 'Virgin Islands', 'Massachusetts', 'Connecticut',\n",
       "       'New Jersey', 'New Hampshire', 'Vermont', 'New York',\n",
       "       'Rhode Island', 'Wyoming', 'Maine', 'Georgia', 'West Virginia',\n",
       "       'Pennsylvania', 'Delaware', 'Ohio', 'Maryland', 'Virginia',\n",
       "       'Colorado', 'District of Columbia', 'Wisconsin', 'North Carolina',\n",
       "       'South Carolina', 'Kentucky', 'Tennessee', 'Mississippi',\n",
       "       'Alabama', 'Florida', 'Missouri', 'Arkansas', 'Louisiana',\n",
       "       'Indiana', 'Illinois', 'Michigan', 'Iowa', 'Minnesota',\n",
       "       'South Dakota', 'Nebraska', 'Texas', 'North Dakota', 'Montana',\n",
       "       'Idaho', 'Kansas', 'Oklahoma', 'New Mexico'], dtype=object)"
      ]
     },
     "execution_count": 23,
     "metadata": {},
     "output_type": "execute_result"
    }
   ],
   "source": [
    "df['state'].unique()"
   ]
  },
  {
   "cell_type": "markdown",
   "metadata": {
    "id": "E6vUozaeDvGp"
   },
   "source": [
    "Converting categorical data into numereical data by using LabelEncoder"
   ]
  },
  {
   "cell_type": "code",
   "execution_count": 24,
   "metadata": {
    "colab": {
     "base_uri": "https://localhost:8080/"
    },
    "id": "GLhxcuhxmjCK",
    "outputId": "fc919d00-2900-454e-da3f-9283e7fad032"
   },
   "outputs": [
    {
     "data": {
      "text/plain": [
       "array([33, 40, 17,  3, 25, 24, 39, 27, 34, 44, 15,  7, 42, 32,  4, 30, 16,\n",
       "       41,  2,  5, 43, 28, 35, 13, 37, 20,  0,  6, 21,  1, 14, 10,  9, 18,\n",
       "       11, 19, 36, 23, 38, 29, 22,  8, 12, 31, 26])"
      ]
     },
     "execution_count": 24,
     "metadata": {},
     "output_type": "execute_result"
    }
   ],
   "source": [
    "#state\n",
    "le_state = LabelEncoder()\n",
    "df['le_state'] = le_state.fit_transform(df['state'])\n",
    "df['le_state'].unique()"
   ]
  },
  {
   "cell_type": "code",
   "execution_count": 25,
   "metadata": {
    "id": "QtLfPTBxYMab"
   },
   "outputs": [],
   "source": [
    "# #(Test) Log to see the state value\n",
    "# df['state']\n",
    "# le_state = LabelEncoder()\n",
    "# le_state.fit(df['state'])\n",
    "# state_mapping = dict(zip(le_state.classes_, le_state.transform(le_state.classes_)))\n",
    "# df['state'] = le_state.transform(df['state'])\n",
    "# print(\"Transformed 'state' column:\")\n",
    "# print(df['state'])\n",
    "\n",
    "# print(\"State mapping:\")\n",
    "# print(state_mapping)"
   ]
  },
  {
   "cell_type": "code",
   "execution_count": 26,
   "metadata": {
    "colab": {
     "base_uri": "https://localhost:8080/"
    },
    "id": "8-vRbBjo6jJ8",
    "outputId": "6e26b31c-f4dd-4cb1-fdd5-9c695400fbca"
   },
   "outputs": [
    {
     "data": {
      "text/plain": [
       "array(['Adjuntas', 'Juana Diaz', 'Ponce', ..., 'Killeen',\n",
       "       'Harker Heights', 'Nolanville'], shape=(11394,), dtype=object)"
      ]
     },
     "execution_count": 26,
     "metadata": {},
     "output_type": "execute_result"
    }
   ],
   "source": [
    "df['city'].unique()"
   ]
  },
  {
   "cell_type": "code",
   "execution_count": 27,
   "metadata": {
    "colab": {
     "base_uri": "https://localhost:8080/"
    },
    "id": "hPeIrzxMmma-",
    "outputId": "c6dcd91f-d72e-4ba8-b222-7ef7fd2fc874"
   },
   "outputs": [
    {
     "data": {
      "text/plain": [
       "array([  46, 5066, 8195, ..., 5223, 4311, 7242], shape=(11394,))"
      ]
     },
     "execution_count": 27,
     "metadata": {},
     "output_type": "execute_result"
    }
   ],
   "source": [
    "#city\n",
    "le_city = LabelEncoder()\n",
    "df['le_city'] = le_city.fit_transform(df['city'])\n",
    "df['le_city'].unique()"
   ]
  },
  {
   "cell_type": "code",
   "execution_count": 28,
   "metadata": {
    "id": "EDGm8WrE7xHd"
   },
   "outputs": [],
   "source": [
    "import json\n",
    "import numpy as np\n",
    "\n",
    "json_data = {}\n",
    "\n",
    "for state, le_state in zip(df['state'].unique(), df['le_state'].unique()):\n",
    "    cities = df[df['state'] == state]\n",
    "    city_json = {}\n",
    "    for city, le_city in zip(cities['city'], cities['le_city']):\n",
    "        city_json[city] = le_city\n",
    "    json_data[state] = {'le_state': int(le_state), 'cities': city_json}\n",
    "\n",
    "with open('state&city.json', 'w') as f:\n",
    "    json.dump(json_data, f, indent=4)"
   ]
  },
  {
   "cell_type": "code",
   "execution_count": 29,
   "metadata": {
    "id": "CGLgf0DuA5QB"
   },
   "outputs": [],
   "source": [
    "df.to_csv('checkState&City.csv', index=False)"
   ]
  },
  {
   "cell_type": "markdown",
   "metadata": {
    "id": "ZYpgmh7Fqmzw"
   },
   "source": [
    "Features Inlcluded in Predicitng House Prices"
   ]
  },
  {
   "cell_type": "code",
   "execution_count": 30,
   "metadata": {
    "id": "8OOPcDvqDtam"
   },
   "outputs": [],
   "source": [
    "x = df.drop(['price'], axis='columns')\n",
    "x = x.drop(['status', 'zip_code', 'state', 'city'], axis='columns')\n",
    "y = df['price']\n",
    "\n",
    "#splitting training and testing\n",
    "x_train, x_test, y_train, y_test = train_test_split(x,y, test_size=0.2, random_state=0)"
   ]
  },
  {
   "cell_type": "code",
   "execution_count": 31,
   "metadata": {},
   "outputs": [
    {
     "name": "stdout",
     "output_type": "stream",
     "text": [
      "         bed  bath  acre_lot  house_size  le_state  le_city\n",
      "466446   2.0   3.0      0.05      1248.0         6     7634\n",
      "557514   3.0   2.0      0.14      1578.0         6     6976\n",
      "722695   3.0   1.0      0.17      1272.0        10     6166\n",
      "143752   4.0   2.0      0.26      1744.0        27     5787\n",
      "343105   2.0   1.0      0.23      1100.0        35     9613\n",
      "...      ...   ...       ...         ...       ...      ...\n",
      "983751   4.0   3.0      0.35      1886.0         1     5773\n",
      "287404   3.0   2.0      0.54      1552.0        28     3946\n",
      "974042   3.0   3.0      0.20      1797.0        14    10922\n",
      "709248   4.0   4.0      0.17      3388.0        30       66\n",
      "1027826  3.0   2.0      0.23      1899.0        38     4018\n",
      "\n",
      "[375386 rows x 6 columns]\n"
     ]
    }
   ],
   "source": [
    "print(x_train)"
   ]
  },
  {
   "cell_type": "code",
   "execution_count": 32,
   "metadata": {
    "colab": {
     "base_uri": "https://localhost:8080/",
     "height": 424
    },
    "id": "_glQ9TL9S8r6",
    "outputId": "054b859c-83b4-492a-ceba-536d441a4f51"
   },
   "outputs": [
    {
     "data": {
      "text/html": [
       "<div>\n",
       "<style scoped>\n",
       "    .dataframe tbody tr th:only-of-type {\n",
       "        vertical-align: middle;\n",
       "    }\n",
       "\n",
       "    .dataframe tbody tr th {\n",
       "        vertical-align: top;\n",
       "    }\n",
       "\n",
       "    .dataframe thead th {\n",
       "        text-align: right;\n",
       "    }\n",
       "</style>\n",
       "<table border=\"1\" class=\"dataframe\">\n",
       "  <thead>\n",
       "    <tr style=\"text-align: right;\">\n",
       "      <th></th>\n",
       "      <th>bed</th>\n",
       "      <th>bath</th>\n",
       "      <th>acre_lot</th>\n",
       "      <th>house_size</th>\n",
       "      <th>le_state</th>\n",
       "      <th>le_city</th>\n",
       "    </tr>\n",
       "  </thead>\n",
       "  <tbody>\n",
       "    <tr>\n",
       "      <th>0</th>\n",
       "      <td>3.0</td>\n",
       "      <td>2.0</td>\n",
       "      <td>0.12</td>\n",
       "      <td>920.0</td>\n",
       "      <td>33</td>\n",
       "      <td>46</td>\n",
       "    </tr>\n",
       "    <tr>\n",
       "      <th>1</th>\n",
       "      <td>4.0</td>\n",
       "      <td>2.0</td>\n",
       "      <td>0.08</td>\n",
       "      <td>1527.0</td>\n",
       "      <td>33</td>\n",
       "      <td>46</td>\n",
       "    </tr>\n",
       "    <tr>\n",
       "      <th>2</th>\n",
       "      <td>2.0</td>\n",
       "      <td>1.0</td>\n",
       "      <td>0.15</td>\n",
       "      <td>748.0</td>\n",
       "      <td>33</td>\n",
       "      <td>5066</td>\n",
       "    </tr>\n",
       "    <tr>\n",
       "      <th>3</th>\n",
       "      <td>4.0</td>\n",
       "      <td>2.0</td>\n",
       "      <td>0.10</td>\n",
       "      <td>1800.0</td>\n",
       "      <td>33</td>\n",
       "      <td>8195</td>\n",
       "    </tr>\n",
       "    <tr>\n",
       "      <th>5</th>\n",
       "      <td>4.0</td>\n",
       "      <td>3.0</td>\n",
       "      <td>0.46</td>\n",
       "      <td>2520.0</td>\n",
       "      <td>33</td>\n",
       "      <td>9043</td>\n",
       "    </tr>\n",
       "    <tr>\n",
       "      <th>...</th>\n",
       "      <td>...</td>\n",
       "      <td>...</td>\n",
       "      <td>...</td>\n",
       "      <td>...</td>\n",
       "      <td>...</td>\n",
       "      <td>...</td>\n",
       "    </tr>\n",
       "    <tr>\n",
       "      <th>1048568</th>\n",
       "      <td>4.0</td>\n",
       "      <td>3.0</td>\n",
       "      <td>0.39</td>\n",
       "      <td>2595.0</td>\n",
       "      <td>38</td>\n",
       "      <td>4311</td>\n",
       "    </tr>\n",
       "    <tr>\n",
       "      <th>1048569</th>\n",
       "      <td>4.0</td>\n",
       "      <td>3.0</td>\n",
       "      <td>0.40</td>\n",
       "      <td>2629.0</td>\n",
       "      <td>38</td>\n",
       "      <td>4311</td>\n",
       "    </tr>\n",
       "    <tr>\n",
       "      <th>1048570</th>\n",
       "      <td>5.0</td>\n",
       "      <td>4.0</td>\n",
       "      <td>0.19</td>\n",
       "      <td>3499.0</td>\n",
       "      <td>38</td>\n",
       "      <td>4311</td>\n",
       "    </tr>\n",
       "    <tr>\n",
       "      <th>1048571</th>\n",
       "      <td>5.0</td>\n",
       "      <td>3.0</td>\n",
       "      <td>0.19</td>\n",
       "      <td>2572.0</td>\n",
       "      <td>38</td>\n",
       "      <td>4311</td>\n",
       "    </tr>\n",
       "    <tr>\n",
       "      <th>1048573</th>\n",
       "      <td>5.0</td>\n",
       "      <td>4.0</td>\n",
       "      <td>0.19</td>\n",
       "      <td>3499.0</td>\n",
       "      <td>38</td>\n",
       "      <td>4311</td>\n",
       "    </tr>\n",
       "  </tbody>\n",
       "</table>\n",
       "<p>469233 rows × 6 columns</p>\n",
       "</div>"
      ],
      "text/plain": [
       "         bed  bath  acre_lot  house_size  le_state  le_city\n",
       "0        3.0   2.0      0.12       920.0        33       46\n",
       "1        4.0   2.0      0.08      1527.0        33       46\n",
       "2        2.0   1.0      0.15       748.0        33     5066\n",
       "3        4.0   2.0      0.10      1800.0        33     8195\n",
       "5        4.0   3.0      0.46      2520.0        33     9043\n",
       "...      ...   ...       ...         ...       ...      ...\n",
       "1048568  4.0   3.0      0.39      2595.0        38     4311\n",
       "1048569  4.0   3.0      0.40      2629.0        38     4311\n",
       "1048570  5.0   4.0      0.19      3499.0        38     4311\n",
       "1048571  5.0   3.0      0.19      2572.0        38     4311\n",
       "1048573  5.0   4.0      0.19      3499.0        38     4311\n",
       "\n",
       "[469233 rows x 6 columns]"
      ]
     },
     "execution_count": 32,
     "metadata": {},
     "output_type": "execute_result"
    }
   ],
   "source": [
    "x"
   ]
  },
  {
   "cell_type": "markdown",
   "metadata": {
    "id": "55rZRfIdAFdU"
   },
   "source": [
    "# Modelling"
   ]
  },
  {
   "cell_type": "markdown",
   "metadata": {
    "id": "Nd9lMECoqagj"
   },
   "source": [
    "Shows the number of features included in the model training"
   ]
  },
  {
   "cell_type": "code",
   "execution_count": 33,
   "metadata": {
    "colab": {
     "base_uri": "https://localhost:8080/"
    },
    "id": "Zw_UNXUCXN7F",
    "outputId": "cc451769-ad1a-4987-fc5d-7e67b08cb329"
   },
   "outputs": [
    {
     "name": "stdout",
     "output_type": "stream",
     "text": [
      "x_train shape: (375386, 6)\n",
      "x_test shape: (93847, 6)\n"
     ]
    }
   ],
   "source": [
    "print(f'x_train shape: {x_train.shape}')\n",
    "print(f'x_test shape: {x_test.shape}')"
   ]
  },
  {
   "cell_type": "markdown",
   "metadata": {
    "id": "rKvkxcGlAKbl"
   },
   "source": [
    "Model Training"
   ]
  },
  {
   "cell_type": "code",
   "execution_count": 34,
   "metadata": {
    "id": "S-6ZKPJG__W9"
   },
   "outputs": [],
   "source": [
    "# Functions that will help us calculate the RMSE and print the score.\n",
    "def rmse(x,y):\n",
    "    return math.sqrt(((x-y)**2).mean())\n",
    "\n",
    "def print_score(m):\n",
    "    res =[rmse(m.predict(x_train),y_train),rmse(m.predict(x_test),y_test),m.score(x_train,y_train),m.score(x_test,y_test)]\n",
    "    if hasattr(m,'oob_score_'):res.append(m.oob_score_)\n",
    "    print(res)"
   ]
  },
  {
   "cell_type": "markdown",
   "metadata": {
    "id": "AXUT7JZOAVVF"
   },
   "source": [
    "Train Random Forest Model"
   ]
  },
  {
   "cell_type": "code",
   "execution_count": 35,
   "metadata": {
    "colab": {
     "base_uri": "https://localhost:8080/"
    },
    "id": "P2zZNS4qAR5e",
    "outputId": "84d2bbdf-d6d4-4153-bca5-bd59e2113ed0"
   },
   "outputs": [
    {
     "name": "stdout",
     "output_type": "stream",
     "text": [
      "[54608.73729569031, 123981.06762925826, 0.9237257186843914, 0.6065262674361587]\n"
     ]
    }
   ],
   "source": [
    "rf_model = RandomForestRegressor(n_estimators=10, random_state=42)\n",
    "rf_model.fit(x_train, y_train)\n",
    "y_pred_rf = rf_model.predict(x_test)\n",
    "\n",
    "mse_rf = mean_squared_error(y_test, y_pred_rf)\n",
    "rmse_rf = math.sqrt(mse_rf)\n",
    "mae_rf = mean_absolute_error(y_test, y_pred_rf)\n",
    "r2_rf = r2_score(y_test, y_pred_rf)\n",
    "\n",
    "print_score(rf_model)"
   ]
  },
  {
   "cell_type": "markdown",
   "metadata": {
    "id": "mxPI0T7LAY6y"
   },
   "source": [
    "Train Hybrid Regression Model"
   ]
  },
  {
   "cell_type": "code",
   "execution_count": 36,
   "metadata": {
    "id": "BWD5maxBAcHT"
   },
   "outputs": [],
   "source": [
    "# Linear Regression\n",
    "lr_model = LinearRegression()\n",
    "lr_model.fit(x_train, y_train)\n",
    "y_pred_lr = lr_model.predict(x_test)\n",
    "\n",
    "# Random Forest\n",
    "rf_model = RandomForestRegressor(n_estimators=100)\n",
    "rf_model.fit(x_train, y_train)\n",
    "y_pred_rf = rf_model.predict(x_test)\n",
    "\n",
    "# Hybrid Regression (average of Linear Regression and Random Forest predictions)\n",
    "y_pred_hybrid = (y_pred_lr + y_pred_rf) / 2\n",
    "mse_hybrid = mean_squared_error(y_test, y_pred_hybrid)\n",
    "rmse_hybrid = math.sqrt(mse_hybrid)\n",
    "mae_hybrid = mean_absolute_error(y_test, y_pred_hybrid)\n",
    "r2_hybrid = r2_score(y_test, y_pred_hybrid)"
   ]
  },
  {
   "cell_type": "markdown",
   "metadata": {
    "id": "cHAzsZCqAevd"
   },
   "source": [
    "Train Ridge Regression Model"
   ]
  },
  {
   "cell_type": "code",
   "execution_count": 37,
   "metadata": {
    "colab": {
     "base_uri": "https://localhost:8080/"
    },
    "id": "Gh9Ix1ZGAi5u",
    "outputId": "ad385814-b780-4d2a-9008-abe2eed03313"
   },
   "outputs": [
    {
     "name": "stdout",
     "output_type": "stream",
     "text": [
      "[161592.11388627585, 161520.97393499807, 0.3321265494564156, 0.33217472642797496]\n"
     ]
    }
   ],
   "source": [
    "ridge_model = Ridge(alpha=1.0)\n",
    "ridge_model.fit(x_train, y_train)\n",
    "y_pred_ridge = ridge_model.predict(x_test)\n",
    "\n",
    "mse_ridge = mean_squared_error(y_test, y_pred_ridge)\n",
    "rmse_ridge = math.sqrt(mse_ridge)\n",
    "mae_ridge = mean_absolute_error(y_test, y_pred_ridge)\n",
    "r2_ridge = r2_score(y_test, y_pred_ridge)\n",
    "\n",
    "print_score(ridge_model)"
   ]
  },
  {
   "cell_type": "markdown",
   "metadata": {
    "id": "YLFZxlsqAksM"
   },
   "source": [
    "Train Decision Tree Model"
   ]
  },
  {
   "cell_type": "code",
   "execution_count": 38,
   "metadata": {
    "colab": {
     "base_uri": "https://localhost:8080/"
    },
    "id": "5R9dZMCbAnkp",
    "outputId": "b0caeaac-0d3e-4b90-c4dd-2b731c1ec7ca"
   },
   "outputs": [
    {
     "name": "stdout",
     "output_type": "stream",
     "text": [
      "[19033.441230428583, 158661.88882991954, 0.990734081284888, 0.35560784919307653]\n"
     ]
    }
   ],
   "source": [
    "dt_model = DecisionTreeRegressor()\n",
    "dt_model.fit(x_train, y_train)\n",
    "y_pred_dt = dt_model.predict(x_test)\n",
    "\n",
    "mse_dt = mean_squared_error(y_test, y_pred_dt)\n",
    "rmse_dt = math.sqrt(mse_dt)\n",
    "mae_dt = mean_absolute_error(y_test, y_pred_dt)\n",
    "r2_dt = r2_score(y_test, y_pred_dt)\n",
    "\n",
    "print_score(dt_model)"
   ]
  },
  {
   "cell_type": "markdown",
   "metadata": {
    "id": "lMQUvv0gArph"
   },
   "source": [
    "Train Gradient Boosting Model"
   ]
  },
  {
   "cell_type": "code",
   "execution_count": 39,
   "metadata": {
    "colab": {
     "base_uri": "https://localhost:8080/"
    },
    "id": "o3j2m3QKAt5p",
    "outputId": "e64fea04-9283-4c29-c267-ec3b7cae682a"
   },
   "outputs": [
    {
     "name": "stdout",
     "output_type": "stream",
     "text": [
      "[143103.64085680884, 143084.69848144893, 0.4762123893921043, 0.47592748130164164]\n"
     ]
    }
   ],
   "source": [
    "gb_model = GradientBoostingRegressor()\n",
    "gb_model.fit(x_train, y_train)\n",
    "y_pred_gb = gb_model.predict(x_test)\n",
    "\n",
    "mse_gb = mean_squared_error(y_test, y_pred_gb)\n",
    "rmse_gb = math.sqrt(mse_gb)\n",
    "mae_gb = mean_absolute_error(y_test, y_pred_gb)\n",
    "r2_gb = r2_score(y_test, y_pred_gb)\n",
    "\n",
    "print_score(gb_model)"
   ]
  },
  {
   "cell_type": "markdown",
   "metadata": {
    "id": "4iXUihvNA10C"
   },
   "source": [
    "# Compare y_predict price with actual price"
   ]
  },
  {
   "cell_type": "markdown",
   "metadata": {
    "id": "zJuKtkhXA8F2"
   },
   "source": [
    "Random Forest Model"
   ]
  },
  {
   "cell_type": "code",
   "execution_count": 40,
   "metadata": {
    "colab": {
     "base_uri": "https://localhost:8080/"
    },
    "id": "QlO_IN0jA97S",
    "outputId": "8bb89307-d113-4232-a18c-5a5c86911e99"
   },
   "outputs": [
    {
     "name": "stdout",
     "output_type": "stream",
     "text": [
      "Mean Absolute Error (MAE): 84677.5506802432\n",
      "       Actual Prices  Predicted Prices\n",
      "0           825000.0     811665.000000\n",
      "1           639900.0     611914.484127\n",
      "2           169000.0     108670.000000\n",
      "3           249900.0     402450.000000\n",
      "4            95000.0      99289.000000\n",
      "...              ...               ...\n",
      "93842       267995.0     248370.000000\n",
      "93843       549900.0     658880.000000\n",
      "93844       385000.0     404398.500000\n",
      "93845       305000.0     378830.000000\n",
      "93846       320000.0     450290.000000\n",
      "\n",
      "[93847 rows x 2 columns]\n"
     ]
    }
   ],
   "source": [
    "rf_model = RandomForestRegressor(n_estimators=10, random_state=42)\n",
    "rf_model.fit(x_train, y_train)\n",
    "y_pred = rf_model.predict(x_test)\n",
    "mae = mean_absolute_error(y_test, y_pred)\n",
    "\n",
    "comparison_df = pd.DataFrame({'Actual Prices': y_test, 'Predicted Prices': y_pred})\n",
    "comparison_df.reset_index(drop=True, inplace=True)\n",
    "\n",
    "print(\"Mean Absolute Error (MAE):\", mae)\n",
    "print(comparison_df)"
   ]
  },
  {
   "cell_type": "markdown",
   "metadata": {
    "id": "aWxLfQ4xA_ov"
   },
   "source": [
    "Hybrid Regression Model"
   ]
  },
  {
   "cell_type": "code",
   "execution_count": 41,
   "metadata": {
    "colab": {
     "base_uri": "https://localhost:8080/"
    },
    "id": "4TC05mkEBCLD",
    "outputId": "217f0e37-5465-4365-83de-9471a02483cf"
   },
   "outputs": [
    {
     "name": "stdout",
     "output_type": "stream",
     "text": [
      "Mean Absolute Error (MAE) for Hybrid Regression: 92666.00245781288\n",
      "       Actual Prices  Predicted Prices\n",
      "0           825000.0     676301.513024\n",
      "1           639900.0     561128.304147\n",
      "2           169000.0     199974.475047\n",
      "3           249900.0     326235.656138\n",
      "4            95000.0     203205.132392\n",
      "...              ...               ...\n",
      "93842       267995.0     283153.825198\n",
      "93843       549900.0     486052.112970\n",
      "93844       385000.0     337266.414543\n",
      "93845       305000.0     336702.767212\n",
      "93846       320000.0     439407.273666\n",
      "\n",
      "[93847 rows x 2 columns]\n"
     ]
    }
   ],
   "source": [
    "# Linear Regression\n",
    "lr_model = LinearRegression()\n",
    "lr_model.fit(x_train, y_train)\n",
    "y_pred_lr = lr_model.predict(x_test)\n",
    "\n",
    "# Random Forest\n",
    "rf_model = RandomForestRegressor(n_estimators=100)\n",
    "rf_model.fit(x_train, y_train)\n",
    "y_pred_rf = rf_model.predict(x_test)\n",
    "\n",
    "# Hybrid Regression (average of Linear Regression and Random Forest predictions)\n",
    "y_pred_hybrid = (y_pred_lr + y_pred_rf) / 2\n",
    "mae_hybrid = mean_absolute_error(y_test, y_pred_hybrid)\n",
    "\n",
    "comparison_df_hybrid = pd.DataFrame({'Actual Prices': y_test, 'Predicted Prices': y_pred_hybrid})\n",
    "comparison_df_hybrid.reset_index(drop=True, inplace=True)\n",
    "print(\"Mean Absolute Error (MAE) for Hybrid Regression:\", mae_hybrid)\n",
    "print(comparison_df_hybrid)"
   ]
  },
  {
   "cell_type": "markdown",
   "metadata": {
    "id": "An-SoCibBED3"
   },
   "source": [
    "Ridge Regression Model"
   ]
  },
  {
   "cell_type": "code",
   "execution_count": 42,
   "metadata": {
    "colab": {
     "base_uri": "https://localhost:8080/"
    },
    "id": "ZOWCSLixBHov",
    "outputId": "6af78fa0-c471-4abe-8bd9-83cf01dcae9e"
   },
   "outputs": [
    {
     "name": "stdout",
     "output_type": "stream",
     "text": [
      "Mean Absolute Error (MAE) for Ridge Regression: 118877.52663069291\n",
      "       Actual Prices  Predicted Prices\n",
      "0           825000.0     559930.228387\n",
      "1           639900.0     498874.767662\n",
      "2           169000.0     268154.487884\n",
      "3           249900.0     292241.924885\n",
      "4            95000.0     271505.083584\n",
      "...              ...               ...\n",
      "93842       267995.0     319351.754795\n",
      "93843       549900.0     359399.724367\n",
      "93844       385000.0     297217.106633\n",
      "93845       305000.0     304477.027942\n",
      "93846       320000.0     416430.096296\n",
      "\n",
      "[93847 rows x 2 columns]\n"
     ]
    }
   ],
   "source": [
    "ridge_model = Ridge(alpha=1.0)\n",
    "ridge_model.fit(x_train, y_train)\n",
    "y_pred_ridge = ridge_model.predict(x_test)\n",
    "mae_ridge = mean_absolute_error(y_test, y_pred_ridge)\n",
    "\n",
    "comparison_df_ridge = pd.DataFrame({'Actual Prices': y_test, 'Predicted Prices': y_pred_ridge})\n",
    "comparison_df_ridge.reset_index(drop=True, inplace=True)\n",
    "print(\"Mean Absolute Error (MAE) for Ridge Regression:\", mae_ridge)\n",
    "print(comparison_df_ridge)"
   ]
  },
  {
   "cell_type": "markdown",
   "metadata": {
    "id": "ecwQVf2TBJcx"
   },
   "source": [
    "Decision Tree Model"
   ]
  },
  {
   "cell_type": "code",
   "execution_count": 43,
   "metadata": {
    "colab": {
     "base_uri": "https://localhost:8080/"
    },
    "id": "5VgyA6RSBLcp",
    "outputId": "c1cf2f4b-1409-4e99-8225-3bcd748668ef"
   },
   "outputs": [
    {
     "name": "stdout",
     "output_type": "stream",
     "text": [
      "Mean Absolute Error (MAE): 104485.7130018838\n",
      "       Actual Prices  Predicted Prices\n",
      "0           825000.0     750000.000000\n",
      "1           639900.0     624185.714286\n",
      "2           169000.0      42000.000000\n",
      "3           249900.0     699900.000000\n",
      "4            95000.0     237995.000000\n",
      "...              ...               ...\n",
      "93842       267995.0     340000.000000\n",
      "93843       549900.0     535000.000000\n",
      "93844       385000.0     422000.000000\n",
      "93845       305000.0     339900.000000\n",
      "93846       320000.0     356000.000000\n",
      "\n",
      "[93847 rows x 2 columns]\n"
     ]
    }
   ],
   "source": [
    "dt_model = DecisionTreeRegressor()\n",
    "dt_model.fit(x_train, y_train)\n",
    "\n",
    "y_pred = dt_model.predict(x_test)\n",
    "\n",
    "mae = mean_absolute_error(y_test, y_pred)\n",
    "\n",
    "comparison_df = pd.DataFrame({'Actual Prices': y_test, 'Predicted Prices': y_pred})\n",
    "comparison_df.reset_index(drop=True, inplace=True)\n",
    "\n",
    "print(\"Mean Absolute Error (MAE):\", mae)\n",
    "print(comparison_df)"
   ]
  },
  {
   "cell_type": "markdown",
   "metadata": {
    "id": "le-JBpJRBN6A"
   },
   "source": [
    "Gradient Boosting Model"
   ]
  },
  {
   "cell_type": "code",
   "execution_count": 44,
   "metadata": {
    "colab": {
     "base_uri": "https://localhost:8080/"
    },
    "id": "GSqglc9NBQb1",
    "outputId": "980d958f-b87a-475f-be33-f0b9322aeef0"
   },
   "outputs": [
    {
     "name": "stdout",
     "output_type": "stream",
     "text": [
      "Mean Absolute Error (MAE): 104485.7130018838\n",
      "       Actual Prices  Predicted Prices\n",
      "0           825000.0     750000.000000\n",
      "1           639900.0     624185.714286\n",
      "2           169000.0      42000.000000\n",
      "3           249900.0     699900.000000\n",
      "4            95000.0     237995.000000\n",
      "...              ...               ...\n",
      "93842       267995.0     340000.000000\n",
      "93843       549900.0     535000.000000\n",
      "93844       385000.0     422000.000000\n",
      "93845       305000.0     339900.000000\n",
      "93846       320000.0     356000.000000\n",
      "\n",
      "[93847 rows x 2 columns]\n"
     ]
    }
   ],
   "source": [
    "gb_model = GradientBoostingRegressor()\n",
    "gb_model.fit(x_train, y_train)\n",
    "\n",
    "y_pred = dt_model.predict(x_test)\n",
    "\n",
    "mae = mean_absolute_error(y_test, y_pred)\n",
    "\n",
    "comparison_df = pd.DataFrame({'Actual Prices': y_test, 'Predicted Prices': y_pred})\n",
    "comparison_df.reset_index(drop=True, inplace=True)\n",
    "\n",
    "print(\"Mean Absolute Error (MAE):\", mae)\n",
    "print(comparison_df)"
   ]
  },
  {
   "cell_type": "markdown",
   "metadata": {
    "id": "vLrSYf3oBSDV"
   },
   "source": [
    "# Model Evaluation"
   ]
  },
  {
   "cell_type": "markdown",
   "metadata": {
    "id": "TsX4ret4BUNt"
   },
   "source": [
    "Evaluate the model and determine which model is the best fit for the dataset"
   ]
  },
  {
   "cell_type": "code",
   "execution_count": 45,
   "metadata": {
    "colab": {
     "base_uri": "https://localhost:8080/"
    },
    "id": "6N4sipcLBXnA",
    "outputId": "59394ce6-3b4c-49f5-afcd-7a6478a63a9b"
   },
   "outputs": [
    {
     "name": "stdout",
     "output_type": "stream",
     "text": [
      "                              MSE       RMSE        MAE   R^2\n",
      "Random Forest      15371305130.49  123981.07   84677.55  0.61\n",
      "Hybrid Regression  16789107930.56  129572.79   92666.00  0.57\n",
      "Ridge Regression   26089025020.91  161520.97  118877.53  0.33\n",
      "Decision Tree      25173594967.08  158661.89  104571.71  0.36\n",
      "Gradient Boosting  20473230939.53  143084.70  104526.94  0.48\n"
     ]
    },
    {
     "name": "stderr",
     "output_type": "stream",
     "text": [
      "C:\\Users\\OEM\\AppData\\Local\\Temp\\ipykernel_5184\\2661306419.py:11: FutureWarning: DataFrame.applymap has been deprecated. Use DataFrame.map instead.\n",
      "  data = data.applymap(lambda x: f'{x:.2f}')\n"
     ]
    }
   ],
   "source": [
    "results = {\n",
    "    'Random Forest': {'MSE': mse_rf, 'RMSE': rmse_rf, 'MAE': mae_rf, 'R^2': r2_rf},\n",
    "    'Hybrid Regression': {'MSE': mse_hybrid, 'RMSE': rmse_hybrid, 'MAE': mae_hybrid, 'R^2': r2_hybrid},\n",
    "    'Ridge Regression': {'MSE': mse_ridge, 'RMSE': rmse_ridge, 'MAE': mae_ridge, 'R^2': r2_ridge},\n",
    "    'Decision Tree': {'MSE': mse_dt, 'RMSE': rmse_dt, 'MAE': mae_dt, 'R^2': r2_dt},\n",
    "    'Gradient Boosting': {'MSE': mse_gb, 'RMSE': rmse_gb, 'MAE': mae_gb, 'R^2': r2_gb}\n",
    "}\n",
    "\n",
    "# Convert the dictionary to a DataFrame\n",
    "data = pd.DataFrame.from_dict(results, orient='index')\n",
    "data = data.applymap(lambda x: f'{x:.2f}')\n",
    "\n",
    "# Display the DataFrame\n",
    "print(data)"
   ]
  },
  {
   "cell_type": "markdown",
   "metadata": {
    "id": "6mGqWL4RqL3u"
   },
   "source": [
    "#Predict House Price with Given Input"
   ]
  },
  {
   "cell_type": "code",
   "execution_count": 46,
   "metadata": {
    "colab": {
     "base_uri": "https://localhost:8080/",
     "height": 424
    },
    "id": "BT8WadxRHXmn",
    "outputId": "b535bbfe-0073-482b-d40e-17999f27d448",
    "scrolled": true
   },
   "outputs": [
    {
     "data": {
      "text/html": [
       "<div>\n",
       "<style scoped>\n",
       "    .dataframe tbody tr th:only-of-type {\n",
       "        vertical-align: middle;\n",
       "    }\n",
       "\n",
       "    .dataframe tbody tr th {\n",
       "        vertical-align: top;\n",
       "    }\n",
       "\n",
       "    .dataframe thead th {\n",
       "        text-align: right;\n",
       "    }\n",
       "</style>\n",
       "<table border=\"1\" class=\"dataframe\">\n",
       "  <thead>\n",
       "    <tr style=\"text-align: right;\">\n",
       "      <th></th>\n",
       "      <th>bed</th>\n",
       "      <th>bath</th>\n",
       "      <th>acre_lot</th>\n",
       "      <th>house_size</th>\n",
       "      <th>le_state</th>\n",
       "      <th>le_city</th>\n",
       "    </tr>\n",
       "  </thead>\n",
       "  <tbody>\n",
       "    <tr>\n",
       "      <th>0</th>\n",
       "      <td>3.0</td>\n",
       "      <td>2.0</td>\n",
       "      <td>0.12</td>\n",
       "      <td>920.0</td>\n",
       "      <td>33</td>\n",
       "      <td>46</td>\n",
       "    </tr>\n",
       "    <tr>\n",
       "      <th>1</th>\n",
       "      <td>4.0</td>\n",
       "      <td>2.0</td>\n",
       "      <td>0.08</td>\n",
       "      <td>1527.0</td>\n",
       "      <td>33</td>\n",
       "      <td>46</td>\n",
       "    </tr>\n",
       "    <tr>\n",
       "      <th>2</th>\n",
       "      <td>2.0</td>\n",
       "      <td>1.0</td>\n",
       "      <td>0.15</td>\n",
       "      <td>748.0</td>\n",
       "      <td>33</td>\n",
       "      <td>5066</td>\n",
       "    </tr>\n",
       "    <tr>\n",
       "      <th>3</th>\n",
       "      <td>4.0</td>\n",
       "      <td>2.0</td>\n",
       "      <td>0.10</td>\n",
       "      <td>1800.0</td>\n",
       "      <td>33</td>\n",
       "      <td>8195</td>\n",
       "    </tr>\n",
       "    <tr>\n",
       "      <th>5</th>\n",
       "      <td>4.0</td>\n",
       "      <td>3.0</td>\n",
       "      <td>0.46</td>\n",
       "      <td>2520.0</td>\n",
       "      <td>33</td>\n",
       "      <td>9043</td>\n",
       "    </tr>\n",
       "    <tr>\n",
       "      <th>...</th>\n",
       "      <td>...</td>\n",
       "      <td>...</td>\n",
       "      <td>...</td>\n",
       "      <td>...</td>\n",
       "      <td>...</td>\n",
       "      <td>...</td>\n",
       "    </tr>\n",
       "    <tr>\n",
       "      <th>1048568</th>\n",
       "      <td>4.0</td>\n",
       "      <td>3.0</td>\n",
       "      <td>0.39</td>\n",
       "      <td>2595.0</td>\n",
       "      <td>38</td>\n",
       "      <td>4311</td>\n",
       "    </tr>\n",
       "    <tr>\n",
       "      <th>1048569</th>\n",
       "      <td>4.0</td>\n",
       "      <td>3.0</td>\n",
       "      <td>0.40</td>\n",
       "      <td>2629.0</td>\n",
       "      <td>38</td>\n",
       "      <td>4311</td>\n",
       "    </tr>\n",
       "    <tr>\n",
       "      <th>1048570</th>\n",
       "      <td>5.0</td>\n",
       "      <td>4.0</td>\n",
       "      <td>0.19</td>\n",
       "      <td>3499.0</td>\n",
       "      <td>38</td>\n",
       "      <td>4311</td>\n",
       "    </tr>\n",
       "    <tr>\n",
       "      <th>1048571</th>\n",
       "      <td>5.0</td>\n",
       "      <td>3.0</td>\n",
       "      <td>0.19</td>\n",
       "      <td>2572.0</td>\n",
       "      <td>38</td>\n",
       "      <td>4311</td>\n",
       "    </tr>\n",
       "    <tr>\n",
       "      <th>1048573</th>\n",
       "      <td>5.0</td>\n",
       "      <td>4.0</td>\n",
       "      <td>0.19</td>\n",
       "      <td>3499.0</td>\n",
       "      <td>38</td>\n",
       "      <td>4311</td>\n",
       "    </tr>\n",
       "  </tbody>\n",
       "</table>\n",
       "<p>469233 rows × 6 columns</p>\n",
       "</div>"
      ],
      "text/plain": [
       "         bed  bath  acre_lot  house_size  le_state  le_city\n",
       "0        3.0   2.0      0.12       920.0        33       46\n",
       "1        4.0   2.0      0.08      1527.0        33       46\n",
       "2        2.0   1.0      0.15       748.0        33     5066\n",
       "3        4.0   2.0      0.10      1800.0        33     8195\n",
       "5        4.0   3.0      0.46      2520.0        33     9043\n",
       "...      ...   ...       ...         ...       ...      ...\n",
       "1048568  4.0   3.0      0.39      2595.0        38     4311\n",
       "1048569  4.0   3.0      0.40      2629.0        38     4311\n",
       "1048570  5.0   4.0      0.19      3499.0        38     4311\n",
       "1048571  5.0   3.0      0.19      2572.0        38     4311\n",
       "1048573  5.0   4.0      0.19      3499.0        38     4311\n",
       "\n",
       "[469233 rows x 6 columns]"
      ]
     },
     "execution_count": 46,
     "metadata": {},
     "output_type": "execute_result"
    }
   ],
   "source": [
    "x"
   ]
  },
  {
   "cell_type": "code",
   "execution_count": 47,
   "metadata": {
    "colab": {
     "base_uri": "https://localhost:8080/"
    },
    "id": "DvyPNrAcHZJ0",
    "outputId": "422432f1-9d22-4791-cc91-fcb829d33b0a"
   },
   "outputs": [
    {
     "data": {
      "text/plain": [
       "array([[3.000e+00, 3.000e+00, 7.000e-01, 3.000e+00, 1.000e+01, 3.852e+03]])"
      ]
     },
     "execution_count": 47,
     "metadata": {},
     "output_type": "execute_result"
    }
   ],
   "source": [
    "x = np.array([[3, 3, 0.7, 3, 10, 3852]]) #hard coded input\n",
    "x"
   ]
  },
  {
   "cell_type": "code",
   "execution_count": 48,
   "metadata": {
    "colab": {
     "base_uri": "https://localhost:8080/"
    },
    "id": "pRLUSD3GJ5zE",
    "outputId": "4fa07836-a34f-4c79-f3e9-e32e4c4fe38d",
    "scrolled": true
   },
   "outputs": [
    {
     "name": "stderr",
     "output_type": "stream",
     "text": [
      "c:\\Users\\OEM\\AppData\\Local\\Programs\\Python\\Python313\\Lib\\site-packages\\sklearn\\utils\\validation.py:2739: UserWarning: X does not have valid feature names, but RandomForestRegressor was fitted with feature names\n",
      "  warnings.warn(\n"
     ]
    },
    {
     "data": {
      "text/plain": [
       "array([246876.])"
      ]
     },
     "execution_count": 48,
     "metadata": {},
     "output_type": "execute_result"
    }
   ],
   "source": [
    "y_pred = rf_model.predict(x)\n",
    "y_pred\n"
   ]
  },
  {
   "cell_type": "markdown",
   "metadata": {
    "id": "HMyku7fOBiTn"
   },
   "source": [
    "#Save Trained Model"
   ]
  },
  {
   "cell_type": "code",
   "execution_count": 49,
   "metadata": {
    "id": "slWQs1dKBjSr"
   },
   "outputs": [],
   "source": [
    "import pickle"
   ]
  },
  {
   "cell_type": "code",
   "execution_count": 50,
   "metadata": {
    "id": "49GiiuRzGh9Z"
   },
   "outputs": [],
   "source": [
    "data = {\"model\": rf_model, \"le_state\": le_state, \"le_city\": le_city}\n",
    "with open('predict_model.pkl', 'wb') as file:\n",
    "    pickle.dump(data, file)"
   ]
  },
  {
   "cell_type": "code",
   "execution_count": 51,
   "metadata": {
    "id": "_95QuraNoo9q"
   },
   "outputs": [],
   "source": [
    "with open('predict_model.pkl', 'rb') as file:\n",
    "  data = pickle.load(file)\n",
    "\n",
    "rf_model_loaded = data[\"model\"]\n",
    "le_state_loaded = data[\"le_state\"]\n",
    "le_city_loaded = data[\"le_city\"]\n",
    "# print(\"Number of unique State Labels:\", len(le_state_loaded.classes_))\n",
    "# print(\"Number of unique City Labels:\", len(le_city_loaded.classes_))"
   ]
  },
  {
   "cell_type": "code",
   "execution_count": 52,
   "metadata": {
    "colab": {
     "base_uri": "https://localhost:8080/"
    },
    "id": "O5kYcOv5o9hv",
    "outputId": "381a4462-1d1d-42a4-a35d-8d142a0dd404"
   },
   "outputs": [
    {
     "name": "stderr",
     "output_type": "stream",
     "text": [
      "c:\\Users\\OEM\\AppData\\Local\\Programs\\Python\\Python313\\Lib\\site-packages\\sklearn\\utils\\validation.py:2739: UserWarning: X does not have valid feature names, but RandomForestRegressor was fitted with feature names\n",
      "  warnings.warn(\n"
     ]
    },
    {
     "data": {
      "text/plain": [
       "array([246876.])"
      ]
     },
     "execution_count": 52,
     "metadata": {},
     "output_type": "execute_result"
    }
   ],
   "source": [
    "y_pred = rf_model_loaded.predict(x)\n",
    "y_pred"
   ]
  },
  {
   "cell_type": "code",
   "execution_count": 57,
   "metadata": {},
   "outputs": [
    {
     "data": {
      "text/plain": [
       "['predict_model.joblib']"
      ]
     },
     "execution_count": 57,
     "metadata": {},
     "output_type": "execute_result"
    }
   ],
   "source": [
    "from joblib import dump\n",
    "from sklearn.ensemble import RandomForestRegressor\n",
    "\n",
    "# Assume rf_model is your trained RandomForestRegressor\n",
    "rf_model = RandomForestRegressor(n_estimators=100)\n",
    "# Example training data (replace with your actual data)\n",
    "# rf_model.fit(x_train, y_train)\n",
    "\n",
    "# Save the model\n",
    "dump(rf_model, 'predict_model.joblib')\n"
   ]
  },
  {
   "cell_type": "code",
   "execution_count": 59,
   "metadata": {
    "colab": {
     "base_uri": "https://localhost:8080/"
    },
    "id": "8Wz8dEEDLkHW",
    "outputId": "27f87272-6d5e-43b5-d947-406fa4166ddd"
   },
   "outputs": [
    {
     "name": "stdout",
     "output_type": "stream",
     "text": [
      "[246876.]\n"
     ]
    },
    {
     "name": "stderr",
     "output_type": "stream",
     "text": [
      "c:\\Users\\OEM\\AppData\\Local\\Programs\\Python\\Python313\\Lib\\site-packages\\sklearn\\utils\\validation.py:2739: UserWarning: X does not have valid feature names, but RandomForestRegressor was fitted with feature names\n",
      "  warnings.warn(\n"
     ]
    }
   ],
   "source": [
    "import pickle\n",
    "x = np.array([[3, 3, 0.7, 3, 10, 3852]])\n",
    "\n",
    "with open('predict_model.pkl', 'rb') as f:\n",
    "    pmodel = pickle.load(f)\n",
    "\n",
    "rf_model = pmodel[\"model\"]\n",
    "predictions = rf_model.predict(x)\n",
    "print(predictions)"
   ]
  }
 ],
 "metadata": {
  "colab": {
   "provenance": []
  },
  "kernelspec": {
   "display_name": "Python 3",
   "language": "python",
   "name": "python3"
  },
  "language_info": {
   "codemirror_mode": {
    "name": "ipython",
    "version": 3
   },
   "file_extension": ".py",
   "mimetype": "text/x-python",
   "name": "python",
   "nbconvert_exporter": "python",
   "pygments_lexer": "ipython3",
   "version": "3.13.1"
  }
 },
 "nbformat": 4,
 "nbformat_minor": 1
}
